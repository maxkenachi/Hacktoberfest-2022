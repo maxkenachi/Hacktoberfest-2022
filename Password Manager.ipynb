{
 "cells": [
  {
   "cell_type": "markdown",
   "metadata": {},
   "source": [
    "# Password Manager\n",
    "\n",
    "Organize and store your passowrds along with username or account name in a textfile but not storing the passwod in plain text - ecnrypting the password is done.\n",
    "\n",
    "### About Fernet Module & Cryptography Package:\n",
    "Python supports a cryptography package that helps us encrypt and decrypt data. \n",
    "\n",
    "The fernet module of the cryptography package has inbuilt functions for the generation of the key, encryption of plaintext into ciphertext, and decryption of ciphertext into plaintext using the encrypt and decrypt methods respectively.\n",
    "\n",
    "`pip install cryptography`\n",
    "\n",
    "The fernet module guarantees that data encrypted using it cannot be further manipulated or read without the key.\n",
    "\n",
    "### Methods used from the Ferent Module:\n",
    "\n",
    "`generate_key()` : This method generates a new fernet key. The key must be kept safe as it is the most important component to decrypt the ciphertext. If the key is lost then the user can no longer decrypt the message. Also if an intruder or hacker gets access to the key they can not only read the data but also forge the data.\n",
    "\n",
    "Note: You need to keep this key in a safe place. If you lose the key, you won't be able to decrypt the data that was encrypted with this key.\n",
    "\n",
    "`encrypt(data)` : It encrypts data passed as a parameter to the method. The outcome of this encryption is known as a “Fernet token” which is basically the ciphertext. The encrypted token also contains the current timestamp when it was generated in plaintext. The encrypt method throws an exception if the data is not in bytes.\n",
    "\n",
    "`decrypt(token)` : This method decrypts the Fernet token passed as a parameter to the method. On successful decryption the original plaintext is obtained as a result, otherwise an exception is thrown.\n",
    "\n",
    "\n",
    "(Source: GeeksforGeeks)"
   ]
  },
  {
   "cell_type": "markdown",
   "metadata": {},
   "source": [
    "### Steps:\n",
    "\n",
    "\n",
    "1. **Generating a key:** Using the `generate_key()` method, a key is generated. This function is only run once.\n",
    "\n",
    "2. **Load key:** Once a key is generated, it's necessary to load the key in the method in order to encrypt passwords.\n",
    "\n",
    "3. Now, the password is ready to be encrypted. This is a three step process: <br>\n",
    "     a. encode the message <br>\n",
    "     b. initialize the Fernet class <br>\n",
    "     c. pass the encoded message to encrypt() method\n",
    "\n",
    "4. Ask the user which mode he/she wants to choose.<br>\n",
    "    a. view: Views all the passwords and the accounts linked with it<br>\n",
    "    b. add: add a new password<br>\n",
    "    c. q: quit"
   ]
  },
  {
   "cell_type": "code",
   "execution_count": 20,
   "metadata": {},
   "outputs": [
    {
     "name": "stdout",
     "output_type": "stream",
     "text": [
      "Would you like to add a new password or view existing ones (view, add), press q to quit? view\n",
      "User: Instagram | Password: Srinija\n",
      "User: WhatsApp | Password: Srinija\n",
      "Would you like to add a new password or view existing ones (view, add), press q to quit? q\n"
     ]
    }
   ],
   "source": [
    "from cryptography.fernet import Fernet\n",
    "\n",
    "'''\n",
    "def generate_key():\n",
    "    key = Fernet.generate_key()\n",
    "    with open(\"key.key\", \"wb\") as key_file:\n",
    "        key_file.write(key)'''\n",
    "\n",
    "\n",
    "def load_key():\n",
    "    file = open(\"key.key\", \"rb\")\n",
    "    key = file.read()\n",
    "    file.close()\n",
    "    return key\n",
    "\n",
    "\n",
    "key = load_key()\n",
    "fer = Fernet(key)\n",
    "\n",
    "\n",
    "def view():\n",
    "    with open('passwords.txt', 'r') as f:\n",
    "        for line in f.readlines():\n",
    "            data = line.rstrip()\n",
    "            user, passw = data.split(\"|\")\n",
    "            print(\"User:\", user, \"| Password:\",\n",
    "                  fer.decrypt(passw.encode()).decode())\n",
    "\n",
    "\n",
    "def add():\n",
    "    name = input('Account Name: ')\n",
    "    pwd = input(\"Password: \")\n",
    "\n",
    "    with open('passwords.txt', 'a') as f:\n",
    "        f.write(name + \"|\" + fer.encrypt(pwd.encode()).decode() + \"\\n\")\n",
    "\n",
    "\n",
    "while True:\n",
    "    mode = input(\n",
    "        \"Would you like to add a new password or view existing ones (view, add), press q to quit? \").lower()\n",
    "    if mode == \"q\":\n",
    "        break\n",
    "\n",
    "    if mode == \"view\":\n",
    "        view()\n",
    "    elif mode == \"add\":\n",
    "        add()\n",
    "    else:\n",
    "        print(\"Invalid mode.\")\n",
    "        continue"
   ]
  }
 ],
 "metadata": {
  "kernelspec": {
   "display_name": "Python 3",
   "language": "python",
   "name": "python3"
  },
  "language_info": {
   "codemirror_mode": {
    "name": "ipython",
    "version": 3
   },
   "file_extension": ".py",
   "mimetype": "text/x-python",
   "name": "python",
   "nbconvert_exporter": "python",
   "pygments_lexer": "ipython3",
   "version": "3.8.5"
  }
 },
 "nbformat": 4,
 "nbformat_minor": 4
}
